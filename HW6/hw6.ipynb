{
 "cells": [
  {
   "cell_type": "code",
   "execution_count": null,
   "metadata": {},
   "outputs": [],
   "source": [
    "!pip install clean-text\n",
    "!pip install transformers\n",
    "!pip install torchmetrics"
   ]
  },
  {
   "cell_type": "code",
   "execution_count": 1,
   "metadata": {},
   "outputs": [
    {
     "name": "stderr",
     "output_type": "stream",
     "text": [
      "/mnt/88fdd009-dda3-49d8-9888-cfd9d9d5910a/ITMO/NLP-1-term/.venv/lib/python3.10/site-packages/tqdm/auto.py:21: TqdmWarning: IProgress not found. Please update jupyter and ipywidgets. See https://ipywidgets.readthedocs.io/en/stable/user_install.html\n",
      "  from .autonotebook import tqdm as notebook_tqdm\n",
      "Since the GPL-licensed package `unidecode` is not installed, using Python's `unicodedata` package which yields worse results.\n",
      "[nltk_data] Downloading package wordnet to /home/alex-utk/nltk_data...\n",
      "[nltk_data]   Package wordnet is already up-to-date!\n"
     ]
    }
   ],
   "source": [
    "import os\n",
    "import torch\n",
    "import numpy as np\n",
    "import pandas as pd\n",
    "from tqdm import tqdm\n",
    "from datasets import load_dataset\n",
    "from torch.utils.data import DataLoader\n",
    "\n",
    "from utils.datasets import TextDataset, collate_fn\n",
    "from utils.models import BertClassifier\n",
    "from utils.utils import clean_func, train_model, test_model\n",
    "\n",
    "torch.manual_seed(0)\n",
    "torch.cuda.manual_seed(0)\n",
    "np.random.seed(0)\n",
    "\n",
    "DATA_PATH = './data'\n",
    "MODEL_PATH = './models'\n",
    "tqdm.pandas()"
   ]
  },
  {
   "cell_type": "markdown",
   "metadata": {},
   "source": [
    "### Препроцессинг"
   ]
  },
  {
   "cell_type": "code",
   "execution_count": 2,
   "metadata": {},
   "outputs": [
    {
     "data": {
      "text/html": [
       "<div>\n",
       "<style scoped>\n",
       "    .dataframe tbody tr th:only-of-type {\n",
       "        vertical-align: middle;\n",
       "    }\n",
       "\n",
       "    .dataframe tbody tr th {\n",
       "        vertical-align: top;\n",
       "    }\n",
       "\n",
       "    .dataframe thead th {\n",
       "        text-align: right;\n",
       "    }\n",
       "</style>\n",
       "<table border=\"1\" class=\"dataframe\">\n",
       "  <thead>\n",
       "    <tr style=\"text-align: right;\">\n",
       "      <th></th>\n",
       "      <th>text</th>\n",
       "      <th>label</th>\n",
       "    </tr>\n",
       "  </thead>\n",
       "  <tbody>\n",
       "    <tr>\n",
       "      <th>0</th>\n",
       "      <td>the rock is destined to be the 21st century's ...</td>\n",
       "      <td>1</td>\n",
       "    </tr>\n",
       "    <tr>\n",
       "      <th>1</th>\n",
       "      <td>the gorgeously elaborate continuation of \" the...</td>\n",
       "      <td>1</td>\n",
       "    </tr>\n",
       "    <tr>\n",
       "      <th>2</th>\n",
       "      <td>effective but too-tepid biopic</td>\n",
       "      <td>1</td>\n",
       "    </tr>\n",
       "    <tr>\n",
       "      <th>3</th>\n",
       "      <td>if you sometimes like to go to the movies to h...</td>\n",
       "      <td>1</td>\n",
       "    </tr>\n",
       "    <tr>\n",
       "      <th>4</th>\n",
       "      <td>emerges as something rare , an issue movie tha...</td>\n",
       "      <td>1</td>\n",
       "    </tr>\n",
       "  </tbody>\n",
       "</table>\n",
       "</div>"
      ],
      "text/plain": [
       "                                                text  label\n",
       "0  the rock is destined to be the 21st century's ...      1\n",
       "1  the gorgeously elaborate continuation of \" the...      1\n",
       "2                     effective but too-tepid biopic      1\n",
       "3  if you sometimes like to go to the movies to h...      1\n",
       "4  emerges as something rare , an issue movie tha...      1"
      ]
     },
     "execution_count": 2,
     "metadata": {},
     "output_type": "execute_result"
    }
   ],
   "source": [
    "dataset = load_dataset(\"rotten_tomatoes\")\n",
    "train_data = dataset['train'].to_pandas()\n",
    "test_data = dataset['test'].to_pandas()\n",
    "val_data = dataset['validation'].to_pandas()\n",
    "\n",
    "train_data.head()"
   ]
  },
  {
   "cell_type": "code",
   "execution_count": 4,
   "metadata": {},
   "outputs": [
    {
     "name": "stderr",
     "output_type": "stream",
     "text": [
      "100%|██████████| 8530/8530 [24:58<00:00,  5.69it/s]\n",
      "100%|██████████| 1066/1066 [03:14<00:00,  5.48it/s]\n",
      "100%|██████████| 1066/1066 [03:12<00:00,  5.55it/s]\n"
     ]
    }
   ],
   "source": [
    "train_data['text'] = train_data['text'].progress_apply(clean_func)\n",
    "test_data['text'] = test_data['text'].progress_apply(clean_func)\n",
    "val_data['text'] = val_data['text'].progress_apply(clean_func)\n",
    "\n",
    "train_data.to_csv(os.path.join(DATA_PATH, 'train.csv'), index=False)\n",
    "test_data.to_csv(os.path.join(DATA_PATH, 'test.csv'), index=False)\n",
    "val_data.to_csv(os.path.join(DATA_PATH, 'val.csv'), index=False)"
   ]
  },
  {
   "cell_type": "markdown",
   "metadata": {},
   "source": [
    "### Обучение"
   ]
  },
  {
   "cell_type": "code",
   "execution_count": 2,
   "metadata": {},
   "outputs": [],
   "source": [
    "train = pd.read_csv(os.path.join(DATA_PATH, 'train.csv')) \n",
    "test = pd.read_csv(os.path.join(DATA_PATH, 'test.csv')) \n",
    "val = pd.read_csv(os.path.join(DATA_PATH, 'val.csv')) \n",
    "\n",
    "train_dataset = TextDataset(train)\n",
    "val_dataset = TextDataset(val)\n",
    "test_dataset = TextDataset(test)\n",
    "\n",
    "train_loader = DataLoader(train_dataset, batch_size=2843, shuffle=True, drop_last=True, collate_fn=collate_fn)\n",
    "val_loader = DataLoader(val_dataset, batch_size=1066, shuffle=True, drop_last=True, collate_fn=collate_fn)"
   ]
  },
  {
   "cell_type": "markdown",
   "metadata": {},
   "source": [
    "Пропробуем нашу модель полностью необученную"
   ]
  },
  {
   "cell_type": "code",
   "execution_count": 3,
   "metadata": {},
   "outputs": [
    {
     "name": "stdout",
     "output_type": "stream",
     "text": [
      "Необученная модель\n",
      "Precision - 0.4749498963356018\n",
      "Recall - 0.4446529150009155\n",
      "F1 - 0.4593023359775543\n"
     ]
    }
   ],
   "source": [
    "device = torch.device('cuda' if torch.cuda.is_available() else 'cpu')\n",
    "\n",
    "model = BertClassifier()\n",
    "model.eval()\n",
    "model.to(device)\n",
    "\n",
    "test_loader = DataLoader(test_dataset, batch_size=1, shuffle=False, drop_last=False, collate_fn=collate_fn)\n",
    "\n",
    "precision, recall, f1 = test_model(model, test_loader)\n",
    "print('Необученная модель')\n",
    "print(f'Precision - {precision}') \n",
    "print(f'Recall - {recall}')\n",
    "print(f'F1 - {f1}')"
   ]
  },
  {
   "cell_type": "markdown",
   "metadata": {},
   "source": [
    "Теперь тоже самое, но с обучением"
   ]
  },
  {
   "cell_type": "code",
   "execution_count": null,
   "metadata": {},
   "outputs": [],
   "source": [
    "# учил на кэггле\n",
    "device = torch.device('cuda' if torch.cuda.is_available() else 'cpu')\n",
    "\n",
    "model = BertClassifier()\n",
    "model.to(device)\n",
    "\n",
    "criterion = torch.nn.BCELoss()\n",
    "optimizer = torch.optim.Adam(model.parameters(), lr=0.01)\n",
    "sheduler = torch.optim.lr_scheduler.ReduceLROnPlateau(optimizer, patience=4)\n",
    "\n",
    "n_epochs = 10000\n",
    "train_model(model, train_loader, val_loader, criterion, sheduler, optimizer,\n",
    "            n_epochs, os.path.join(MODEL_PATH, 'BertClassifier.pt'))"
   ]
  },
  {
   "cell_type": "code",
   "execution_count": 4,
   "metadata": {},
   "outputs": [
    {
     "name": "stdout",
     "output_type": "stream",
     "text": [
      "Обученная модель\n",
      "Precision - 0.756302535533905\n",
      "Recall - 0.6754221320152283\n",
      "F1 - 0.7135778069496155\n"
     ]
    }
   ],
   "source": [
    "# Оценка метрик\n",
    "model.load_state_dict(torch.load(os.path.join(MODEL_PATH, 'BertClassifier.pt')))\n",
    "model.eval()\n",
    "model.to(device)\n",
    "\n",
    "test_loader = DataLoader(test_dataset, batch_size=1, shuffle=False, drop_last=False, collate_fn=collate_fn)\n",
    "\n",
    "precision, recall, f1 = test_model(model, test_loader)\n",
    "print('Обученная модель')\n",
    "print(f'Precision - {precision}') \n",
    "print(f'Recall - {recall}')\n",
    "print(f'F1 - {f1}')"
   ]
  }
 ],
 "metadata": {
  "kernelspec": {
   "display_name": ".venv",
   "language": "python",
   "name": "python3"
  },
  "language_info": {
   "codemirror_mode": {
    "name": "ipython",
    "version": 3
   },
   "file_extension": ".py",
   "mimetype": "text/x-python",
   "name": "python",
   "nbconvert_exporter": "python",
   "pygments_lexer": "ipython3",
   "version": "3.10.12"
  }
 },
 "nbformat": 4,
 "nbformat_minor": 2
}
