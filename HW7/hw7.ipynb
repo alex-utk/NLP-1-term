{
 "cells": [
  {
   "cell_type": "code",
   "execution_count": 2,
   "metadata": {},
   "outputs": [],
   "source": [
    "from datasets import load_dataset\n",
    "\n",
    "dataset = load_dataset(\"sberquad\", split=\"train[:5000]\") # потом руками убрать это деление"
   ]
  },
  {
   "cell_type": "code",
   "execution_count": 4,
   "metadata": {},
   "outputs": [],
   "source": [
    "dataset = dataset.train_test_split(test_size=0.2)"
   ]
  },
  {
   "cell_type": "code",
   "execution_count": 5,
   "metadata": {},
   "outputs": [
    {
     "data": {
      "text/plain": [
       "{'id': 43115,\n",
       " 'title': 'SberChallenge',\n",
       " 'context': 'Период завершения болезни (выздоровление, реконвалесценция) может протекать быстро, критически (см. Кризис) или постепенно, литически (см. Лизис). В зависимости от длительности течения и быстроты нарастания и исчезновения проявлений болезни различают острые и хронические. Присоединение к основным проявлениям болезни дополнительных изменений, не связанных с непосредственной причиной болезни, но развивающихся в результате её течения, называется осложнением. Оно может возникать в разгаре болезни и по миновании основных её проявлений. Осложнения отягчают болезнь, а иногда становятся причиной неблагоприятного исхода. Исходом болезни могут быть: полное выздоровление, выздоровление с остаточными явлениями, стойкое изменение органов, иногда возникновение новых форм заболевания в виде отдалённых последствий и смерть. Смерть как завершение болезни может наступить внезапно, после краткой агонии или постепенно, через более или менее длительное агональное состояние.',\n",
       " 'question': 'Какой период болезни может протекать быстро, критически или постепенно, литически?',\n",
       " 'answers': {'text': ['Период завершения болезни'], 'answer_start': [0]}}"
      ]
     },
     "execution_count": 5,
     "metadata": {},
     "output_type": "execute_result"
    }
   ],
   "source": [
    "dataset[\"train\"][0]"
   ]
  }
 ],
 "metadata": {
  "kernelspec": {
   "display_name": ".venv",
   "language": "python",
   "name": "python3"
  },
  "language_info": {
   "codemirror_mode": {
    "name": "ipython",
    "version": 3
   },
   "file_extension": ".py",
   "mimetype": "text/x-python",
   "name": "python",
   "nbconvert_exporter": "python",
   "pygments_lexer": "ipython3",
   "version": "3.10.12"
  }
 },
 "nbformat": 4,
 "nbformat_minor": 2
}
