{
 "cells": [
  {
   "cell_type": "code",
   "execution_count": 8,
   "metadata": {},
   "outputs": [],
   "source": [
    "import os\n",
    "import numpy as np\n",
    "from tqdm import tqdm\n",
    "from torch.optim import AdamW\n",
    "from datasets import load_dataset\n",
    "from torch.utils.data import DataLoader\n",
    "from transformers import AutoTokenizer, AutoModelForQuestionAnswering, default_data_collator, get_scheduler\n",
    "\n",
    "from utils import _preprocess_training, _preprocess_validation, train, eval\n",
    "\n",
    "\n",
    "MAX_LENGTH = 384\n",
    "STRIDE = 128\n",
    "NUM_TRAIN_EPOCHS = 20\n",
    "N_BEST = 20\n",
    "MAX_ANSWER_LENGTH = 30\n",
    "TRAINED_MODEL_PATH = './models'\n",
    "os.makedirs(TRAINED_MODEL_PATH, exist_ok=True)"
   ]
  },
  {
   "cell_type": "markdown",
   "metadata": {},
   "source": [
    "### Обучение"
   ]
  },
  {
   "cell_type": "code",
   "execution_count": 9,
   "metadata": {},
   "outputs": [
    {
     "data": {
      "text/plain": [
       "{'id': 62310,\n",
       " 'title': 'SberChallenge',\n",
       " 'context': 'В протерозойских отложениях органические остатки встречаются намного чаще, чем в архейских. Они представлены известковыми выделениями сине-зелёных водорослей, ходами червей, остатками кишечнополостных. Кроме известковых водорослей, к числу древнейших растительных остатков относятся скопления графито-углистого вещества, образовавшегося в результате разложения Corycium enigmaticum. В кремнистых сланцах железорудной формации Канады найдены нитевидные водоросли, грибные нити и формы, близкие современным кокколитофоридам. В железистых кварцитах Северной Америки и Сибири обнаружены железистые продукты жизнедеятельности бактерий.',\n",
       " 'question': 'чем представлены органические остатки?',\n",
       " 'answers': {'text': ['известковыми выделениями сине-зелёных водорослей'],\n",
       "  'answer_start': [109]}}"
      ]
     },
     "execution_count": 9,
     "metadata": {},
     "output_type": "execute_result"
    }
   ],
   "source": [
    "# Загрузим датасет и посмотрим на формат данных\n",
    "dataset = load_dataset(\"sberquad\")\n",
    "dataset['train'][0]"
   ]
  },
  {
   "cell_type": "code",
   "execution_count": 10,
   "metadata": {},
   "outputs": [],
   "source": [
    "# загрузка токенизатора и необученной модели\n",
    "model = AutoModelForQuestionAnswering.from_pretrained(\"cointegrated/rubert-tiny2\")\n",
    "model.cuda();\n",
    "tokenizer = AutoTokenizer.from_pretrained(\"cointegrated/rubert-tiny2\")"
   ]
  },
  {
   "cell_type": "code",
   "execution_count": 11,
   "metadata": {},
   "outputs": [],
   "source": [
    "# предобработка трейн части датасета\n",
    "def preprocess_training(data):\n",
    "    questions = [q.strip() for q in data[\"question\"]]\n",
    "    inputs = tokenizer(\n",
    "        questions,\n",
    "        data[\"context\"],\n",
    "        max_length=MAX_LENGTH,\n",
    "        truncation=\"only_second\",\n",
    "        stride=STRIDE,\n",
    "        return_overflowing_tokens=True,\n",
    "        return_offsets_mapping=True,\n",
    "        padding=\"max_length\",\n",
    "    )\n",
    "    inputs = _preprocess_training(data, inputs)\n",
    "    return inputs\n",
    "\n",
    "train_data = dataset[\"train\"].map(\n",
    "    preprocess_training,\n",
    "    batched=True,\n",
    "    remove_columns=dataset[\"train\"].column_names,\n",
    ")\n",
    "train_data.set_format(\"torch\")"
   ]
  },
  {
   "cell_type": "code",
   "execution_count": 12,
   "metadata": {},
   "outputs": [],
   "source": [
    "# предобработка валидационной части датасета\n",
    "def preprocess_validation(data):\n",
    "    questions = [q.strip() for q in data[\"question\"]]\n",
    "    inputs = tokenizer(\n",
    "        questions,\n",
    "        data[\"context\"],\n",
    "        max_length=MAX_LENGTH,\n",
    "        truncation=\"only_second\",\n",
    "        stride=STRIDE,\n",
    "        return_overflowing_tokens=True,\n",
    "        return_offsets_mapping=True,\n",
    "        padding=\"max_length\",\n",
    "    )\n",
    "    inputs = _preprocess_validation(data, inputs)\n",
    "    return inputs\n",
    "\n",
    "\n",
    "validation_data = dataset[\"validation\"].map(\n",
    "    preprocess_validation,\n",
    "    batched=True,\n",
    "    remove_columns=dataset[\"validation\"].column_names,\n",
    ")\n",
    "val_data = validation_data.remove_columns([\"example_id\", \"offset_mapping\"])\n",
    "val_data.set_format(\"torch\")"
   ]
  },
  {
   "cell_type": "code",
   "execution_count": 13,
   "metadata": {},
   "outputs": [
    {
     "name": "stderr",
     "output_type": "stream",
     "text": [
      "Some weights of BertForQuestionAnswering were not initialized from the model checkpoint at cointegrated/rubert-tiny2 and are newly initialized: ['qa_outputs.weight', 'qa_outputs.bias']\n",
      "You should probably TRAIN this model on a down-stream task to be able to use it for predictions and inference.\n"
     ]
    }
   ],
   "source": [
    "# загрузка в торчевские далатоадеры\n",
    "train_dataloader = DataLoader(\n",
    "    train_data,\n",
    "    shuffle=True,\n",
    "    collate_fn=default_data_collator,\n",
    "    batch_size=120,\n",
    ")\n",
    "eval_dataloader = DataLoader(\n",
    "    val_data,\n",
    "    shuffle=False,\n",
    "    collate_fn=default_data_collator,\n",
    "    batch_size=120,\n",
    ")\n",
    "\n",
    "optimizer = AdamW(model.parameters(), lr=2e-5)\n",
    "lr_scheduler = get_scheduler(\n",
    "    \"cosine\",\n",
    "    optimizer=optimizer,\n",
    "    num_warmup_steps=1,\n",
    "    num_training_steps=NUM_TRAIN_EPOCHS * len(train_dataloader),\n",
    ")"
   ]
  },
  {
   "cell_type": "code",
   "execution_count": null,
   "metadata": {},
   "outputs": [],
   "source": [
    "# и обучим на sbersquad\n",
    "train(model, train_dataloader,\n",
    "      eval_dataloader, validation_data, dataset[\"validation\"],\n",
    "      optimizer, lr_scheduler, N_BEST, MAX_ANSWER_LENGTH,\n",
    "      NUM_TRAIN_EPOCHS, TRAINED_MODEL_PATH)"
   ]
  },
  {
   "cell_type": "markdown",
   "metadata": {},
   "source": [
    "### Тест"
   ]
  },
  {
   "cell_type": "code",
   "execution_count": 14,
   "metadata": {},
   "outputs": [],
   "source": [
    "# Протестируем свежеобученную модель\n",
    "tokenizer = AutoTokenizer.from_pretrained(\"cointegrated/rubert-tiny2\")\n",
    "model = AutoModelForQuestionAnswering.from_pretrained(TRAINED_MODEL_PATH)\n",
    "model.eval()\n",
    "model.cuda();"
   ]
  },
  {
   "cell_type": "code",
   "execution_count": 17,
   "metadata": {},
   "outputs": [
    {
     "name": "stderr",
     "output_type": "stream",
     "text": [
      "100%|██████████| 5036/5036 [00:05<00:00, 844.36it/s]\n"
     ]
    },
    {
     "data": {
      "text/plain": [
       "{'exact_match': 35.02779984114377, 'f1': 55.33552449242349}"
      ]
     },
     "execution_count": 17,
     "metadata": {},
     "output_type": "execute_result"
    }
   ],
   "source": [
    "# посмотрим метрики обученной модели на валидации\n",
    "eval(model, eval_dataloader, validation_data, dataset[\"validation\"], N_BEST, MAX_ANSWER_LENGTH, return_scores=True)"
   ]
  },
  {
   "cell_type": "code",
   "execution_count": 7,
   "metadata": {},
   "outputs": [
    {
     "name": "stderr",
     "output_type": "stream",
     "text": [
      "100%|██████████| 23936/23936 [00:27<00:00, 880.67it/s]\n"
     ]
    }
   ],
   "source": [
    "# загрузим тестовые данные и посмотрим результат сами\n",
    "test_dataset = dataset[\"test\"].map(\n",
    "    preprocess_validation,\n",
    "    batched=True,\n",
    "    remove_columns=dataset[\"test\"].column_names,\n",
    ")\n",
    "test_data = test_dataset.remove_columns([\"example_id\", \"offset_mapping\"])\n",
    "test_data.set_format(\"torch\")\n",
    "\n",
    "test_loader = DataLoader(\n",
    "    test_data,\n",
    "    shuffle=False,\n",
    "    collate_fn=default_data_collator,\n",
    "    batch_size=10,\n",
    ")\n",
    "\n",
    "results = eval(model, test_loader, test_dataset, dataset[\"test\"], N_BEST, MAX_ANSWER_LENGTH, return_scores=False)\n",
    "results = iter(results)"
   ]
  },
  {
   "cell_type": "code",
   "execution_count": 11,
   "metadata": {},
   "outputs": [
    {
     "data": {
      "text/plain": [
       "('Многоклеточный организм — внесистематическая категория живых организмов, тело которых состоит из многих клеток, большая часть которых (кроме стволовых, например, клеток камбия у растений) дифференцированы, то есть различаются по строению и выполняемым функциям. Следует отличать многоклеточность и колониальность. У колониальных организмов отсутствуют настоящие дифференцированные клетки, а следовательно, и разделение тела на ткани. Граница между многоклеточностью и колониальностью нечёткая. Например, вольвокс часто относят к колониальным организмам, хотя в его колониях есть чёткое деление клеток на генеративные и соматические. Кроме дифференциации клеток, для многоклеточных характерен и более высокий уровень интеграции, чем для колониальных форм. Многоклеточные животные, возможно, появились на Земле 2,1 миллиарда лет назад, вскоре после кислородной революции .',\n",
       " 'Как называется внесистематическая категория живых организмов, тело которых состоит из многих клеток, большая часть которых дифференцированы?',\n",
       " 'Многоклеточный организм')"
      ]
     },
     "execution_count": 11,
     "metadata": {},
     "output_type": "execute_result"
    }
   ],
   "source": [
    "# Можем поитерироваться по результатам и визуально оценить как оно работает\n",
    "# к сожалению скор можно получить только на валидации, в тестовой выборке нет ответов\n",
    "next(results)"
   ]
  }
 ],
 "metadata": {
  "kernelspec": {
   "display_name": ".venv",
   "language": "python",
   "name": "python3"
  },
  "language_info": {
   "codemirror_mode": {
    "name": "ipython",
    "version": 3
   },
   "file_extension": ".py",
   "mimetype": "text/x-python",
   "name": "python",
   "nbconvert_exporter": "python",
   "pygments_lexer": "ipython3",
   "version": "3.10.12"
  }
 },
 "nbformat": 4,
 "nbformat_minor": 2
}
